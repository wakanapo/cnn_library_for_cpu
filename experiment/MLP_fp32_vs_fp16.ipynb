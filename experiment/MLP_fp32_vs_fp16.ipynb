{
 "cells": [
  {
   "cell_type": "code",
   "execution_count": 2,
   "metadata": {
    "collapsed": true
   },
   "outputs": [],
   "source": [
    "import os\n",
    "home=os.environ['HOME']\n",
    "import sys\n",
    "sys.path.append(home+'/utokyo-kudohlab/cnn_cpp/src/protos')"
   ]
  },
  {
   "cell_type": "code",
   "execution_count": 3,
   "metadata": {
    "collapsed": true
   },
   "outputs": [],
   "source": [
    "import cnn_params_pb2"
   ]
  },
  {
   "cell_type": "code",
   "execution_count": 4,
   "metadata": {
    "collapsed": true
   },
   "outputs": [],
   "source": [
    "params = cnn_params_pb2.Params()"
   ]
  },
  {
   "cell_type": "code",
   "execution_count": 5,
   "metadata": {
    "collapsed": true
   },
   "outputs": [],
   "source": [
    "try:\n",
    "  with open(home+\"/utokyo-kudohlab/cnn_cpp/data/three_fp16.pb\", \"rb\") as f:\n",
    "      params.ParseFromString(f.read())\n",
    "except IOError:\n",
    "  print (\"Could not open file.  Creating a new one.\")"
   ]
  },
  {
   "cell_type": "code",
   "execution_count": 6,
   "metadata": {
    "collapsed": true
   },
   "outputs": [],
   "source": [
    "import numpy as np"
   ]
  },
  {
   "cell_type": "code",
   "execution_count": 7,
   "metadata": {
    "collapsed": true
   },
   "outputs": [],
   "source": [
    "w1_h = np.array(params.weights[0].w)\n",
    "b1_h = np.array(params.biases[0].b)\n",
    "w2_h = np.array(params.weights[1].w)\n",
    "b2_h = np.array(params.biases[1].b)"
   ]
  },
  {
   "cell_type": "code",
   "execution_count": 8,
   "metadata": {
    "collapsed": true
   },
   "outputs": [],
   "source": [
    "params_f = cnn_params_pb2.Params()\n",
    "try:\n",
    "  with open(home+\"/utokyo-kudohlab/cnn_cpp/data/three.pb\", \"rb\") as f:\n",
    "      params_f.ParseFromString(f.read())\n",
    "except IOError:\n",
    "  print (\"Could not open file.  Creating a new one.\")"
   ]
  },
  {
   "cell_type": "code",
   "execution_count": 9,
   "metadata": {
    "collapsed": true
   },
   "outputs": [],
   "source": [
    "w1_f = np.array(params_f.weights[0].w)\n",
    "b1_f = np.array(params_f.biases[0].b)\n",
    "w2_f = np.array(params_f.weights[1].w)\n",
    "b2_f = np.array(params_f.biases[1].b)"
   ]
  },
  {
   "cell_type": "code",
   "execution_count": 10,
   "metadata": {
    "collapsed": true
   },
   "outputs": [],
   "source": [
    "import matplotlib.pyplot as plt"
   ]
  },
  {
   "cell_type": "code",
   "execution_count": 16,
   "metadata": {},
   "outputs": [
    {
     "data": {
      "image/png": "[encoded data removed]",
      "text/plain": [
       "<matplotlib.figure.Figure at 0x7f0f144d72b0>"
      ]
     },
     "metadata": {},
     "output_type": "display_data"
    }
   ],
   "source": [
    "_, (axL, axR) = plt.subplots(ncols=2, figsize=(10,4))\n",
    "axL.hist(w1_h, bins=1000, range=(-0.5, 0.5))\n",
    "axR.hist(w1_f, bins=1000, range=(-0.5, 0.5), color='green')\n",
    "plt.show()"
   ]
  },
  {
   "cell_type": "code",
   "execution_count": 17,
   "metadata": {},
   "outputs": [
    {
     "data": {
      "image/png": "[encoded data removed]",
      "text/plain": [
       "<matplotlib.figure.Figure at 0x7f0f1409bdd8>"
      ]
     },
     "metadata": {},
     "output_type": "display_data"
    }
   ],
   "source": [
    "_, (axL, axR) = plt.subplots(ncols=2, figsize=(10,4))\n",
    "axL.hist(w2_h, bins=100, range=(-1.0, 1.5))\n",
    "axR.hist(w2_f, bins=100, range=(-1.0, 1.5), color='green')\n",
    "plt.show()"
   ]
  },
  {
   "cell_type": "code",
   "execution_count": 18,
   "metadata": {},
   "outputs": [
    {
     "data": {
      "image/png": "[encoded data removed]",
      "text/plain": [
       "<matplotlib.figure.Figure at 0x7f0f136db7b8>"
      ]
     },
     "metadata": {},
     "output_type": "display_data"
    }
   ],
   "source": [
    "_, (axL, axR) = plt.subplots(ncols=2, figsize=(10,4))\n",
    "axL.hist(b1_h, bins=100, range=(-0.2, 0.2))\n",
    "axR.hist(b1_f, bins=100, range=(-0.2, 0.2), color='green')\n",
    "plt.show()"
   ]
  },
  {
   "cell_type": "code",
   "execution_count": 19,
   "metadata": {},
   "outputs": [
    {
     "data": {
      "image/png": "[encoded data removed]",
      "text/plain": [
       "<matplotlib.figure.Figure at 0x7f0f1551e7b8>"
      ]
     },
     "metadata": {},
     "output_type": "display_data"
    }
   ],
   "source": [
    "_, (axL, axR) = plt.subplots(ncols=2, figsize=(10,4))\n",
    "axL.hist(b2_h, bins=10, range=(-0.5, 0.6))\n",
    "axR.hist(b2_f, bins=10, range=(-0.5, 0.6), color='green')\n",
    "plt.show()"
   ]
  },
  {
   "cell_type": "code",
   "execution_count": null,
   "metadata": {
    "collapsed": true
   },
   "outputs": [],
   "source": []
  }
 ],
 "metadata": {
  "kernelspec": {
   "display_name": "Python 3",
   "language": "python",
   "name": "python3"
  },
  "language_info": {
   "codemirror_mode": {
    "name": "ipython",
    "version": 3
   },
   "file_extension": ".py",
   "mimetype": "text/x-python",
   "name": "python",
   "nbconvert_exporter": "python",
   "pygments_lexer": "ipython3",
   "version": "3.6.1"
  }
 },
 "nbformat": 4,
 "nbformat_minor": 2
}
