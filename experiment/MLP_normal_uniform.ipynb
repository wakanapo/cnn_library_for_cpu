{
 "cells": [
  {
   "cell_type": "code",
   "execution_count": 1,
   "metadata": {
    "collapsed": true
   },
   "outputs": [],
   "source": [
    "import os\n",
    "home=os.environ['HOME']\n",
    "import sys\n",
    "sys.path.append(home+'/utokyo-kudohlab/cnn_cpp/src/protos')"
   ]
  },
  {
   "cell_type": "code",
   "execution_count": 2,
   "metadata": {
    "collapsed": true
   },
   "outputs": [],
   "source": [
    "import cnn_params_pb2"
   ]
  },
  {
   "cell_type": "code",
   "execution_count": 3,
   "metadata": {
    "collapsed": true
   },
   "outputs": [],
   "source": [
    "import numpy as np\n",
    "import matplotlib.pyplot as plt"
   ]
  },
  {
   "cell_type": "code",
   "execution_count": 11,
   "metadata": {
    "collapsed": true
   },
   "outputs": [],
   "source": [
    "params_n = cnn_params_pb2.Params()\n",
    "try:\n",
    "  with open(home+\"/utokyo-kudohlab/cnn_cpp/data/three_normal11.pb\", \"rb\") as f:\n",
    "      params_n.ParseFromString(f.read())\n",
    "except IOError:\n",
    "  print (\"Could not open file.  Creating a new one.\")"
   ]
  },
  {
   "cell_type": "code",
   "execution_count": 12,
   "metadata": {
    "collapsed": true
   },
   "outputs": [],
   "source": [
    "params_u = cnn_params_pb2.Params()\n",
    "try:\n",
    "  with open(home+\"/utokyo-kudohlab/cnn_cpp/data/three_uniform11.pb\", \"rb\") as f:\n",
    "      params_u.ParseFromString(f.read())\n",
    "except IOError:\n",
    "  print (\"Could not open file.  Creating a new one.\")"
   ]
  },
  {
   "cell_type": "code",
   "execution_count": 13,
   "metadata": {},
   "outputs": [],
   "source": [
    "w1_n = np.array(params_n.weights[0].w)\n",
    "b1_n = np.array(params_n.biases[0].b)\n",
    "w2_n = np.array(params_n.weights[1].w)\n",
    "b2_n = np.array(params_n.biases[1].b)"
   ]
  },
  {
   "cell_type": "code",
   "execution_count": 14,
   "metadata": {
    "collapsed": true
   },
   "outputs": [],
   "source": [
    "w1_u = np.array(params_u.weights[0].w)\n",
    "b1_u = np.array(params_u.biases[0].b)\n",
    "w2_u = np.array(params_u.weights[1].w)\n",
    "b2_u = np.array(params_u.biases[1].b)"
   ]
  },
  {
   "cell_type": "code",
   "execution_count": 15,
   "metadata": {},
   "outputs": [
    {
     "data": {
      "image/png": "[encoded data removed]",
      "text/plain": [
       "<matplotlib.figure.Figure at 0x7f92c2533278>"
      ]
     },
     "metadata": {},
     "output_type": "display_data"
    }
   ],
   "source": [
    "_, (axL, axR) = plt.subplots(ncols=2, figsize=(10,4))\n",
    "axL.hist(w1_n, bins=1000, range=(-0.5, 0.5))\n",
    "axR.hist(w1_u, bins=1000, range=(-0.5, 0.5), color='green')\n",
    "plt.show()"
   ]
  },
  {
   "cell_type": "code",
   "execution_count": 16,
   "metadata": {},
   "outputs": [
    {
     "data": {
      "image/png": "[encoded data removed]",
      "text/plain": [
       "<matplotlib.figure.Figure at 0x7f92c25331d0>"
      ]
     },
     "metadata": {},
     "output_type": "display_data"
    }
   ],
   "source": [
    "_, (axL, axR) = plt.subplots(ncols=2, figsize=(10,4))\n",
    "axL.hist(w2_n, bins=100, range=(-1.0, 1.5))\n",
    "axR.hist(w2_u, bins=100, range=(-1.0, 1.5), color='green')\n",
    "plt.show()"
   ]
  },
  {
   "cell_type": "code",
   "execution_count": null,
   "metadata": {
    "collapsed": true
   },
   "outputs": [],
   "source": []
  }
 ],
 "metadata": {
  "kernelspec": {
   "display_name": "Python 3",
   "language": "python",
   "name": "python3"
  },
  "language_info": {
   "codemirror_mode": {
    "name": "ipython",
    "version": 3
   },
   "file_extension": ".py",
   "mimetype": "text/x-python",
   "name": "python",
   "nbconvert_exporter": "python",
   "pygments_lexer": "ipython3",
   "version": "3.6.1"
  }
 },
 "nbformat": 4,
 "nbformat_minor": 2
}
